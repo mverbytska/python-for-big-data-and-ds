{
  "nbformat": 4,
  "nbformat_minor": 0,
  "metadata": {
    "colab": {
      "provenance": []
    },
    "kernelspec": {
      "name": "python3",
      "display_name": "Python 3"
    },
    "language_info": {
      "name": "python"
    }
  },
  "cells": [
    {
      "cell_type": "markdown",
      "source": [
        "# I. OOP"
      ],
      "metadata": {
        "id": "5qV_sehzFCTp"
      }
    },
    {
      "cell_type": "markdown",
      "source": [
        "1. (6б). Створіть клас Animal, додайте три атрибути, один з яких має значення за замовчуванням та два методи на свій розсуд."
      ],
      "metadata": {
        "id": "tx_U_hOALyfg"
      }
    },
    {
      "cell_type": "code",
      "source": [
        "class Animal:\n",
        "  def __init__(self, vertebra_class, age, pattern = 'stripes'):\n",
        "    self.vertebra_class = vertebra_class\n",
        "    self.age = age\n",
        "    self.pattern = pattern\n",
        "\n",
        "  def have_birthday(self):\n",
        "    self.age += 1\n",
        "    print(f'Now I am {self.age} years old!')\n",
        "\n",
        "  def dye(self, new_pattern: str):\n",
        "    self.pattern = new_pattern\n",
        "    print(f'Now I am {self.pattern}')"
      ],
      "metadata": {
        "id": "-Vf895KaL88N"
      },
      "execution_count": 14,
      "outputs": []
    },
    {
      "cell_type": "markdown",
      "source": [
        "2. (2б). Створіть два обʼєкти цього класу, де один з обʼєктів створюється із дефолтним значенням атрибуту. На одному обʼєкті отримайте значення його атрибуту, а на іншому викличте один з його методів."
      ],
      "metadata": {
        "id": "X_UlOMB0L93w"
      }
    },
    {
      "cell_type": "code",
      "source": [
        "siamese_cat = Animal('mammals', 10, 'grey fur')\n",
        "tiger = Animal('mammals', 14.5)\n",
        "\n",
        "siamese_cat.have_birthday()\n",
        "print(tiger.pattern)"
      ],
      "metadata": {
        "id": "7gBu0ESOMCpG",
        "colab": {
          "base_uri": "https://localhost:8080/"
        },
        "outputId": "cd06b4f3-6d9b-40a4-dd5c-e13a7df14c0a"
      },
      "execution_count": 15,
      "outputs": [
        {
          "output_type": "stream",
          "name": "stdout",
          "text": [
            "Now I am 11 years old!\n",
            "stripes\n"
          ]
        }
      ]
    },
    {
      "cell_type": "markdown",
      "source": [
        "3. (5б). Створіть клас, де атрибути мають різні рівні доступу. Спробуйте отримати їхні значення та опишіть результати."
      ],
      "metadata": {
        "id": "HoqSCZt1MHn5"
      }
    },
    {
      "cell_type": "code",
      "source": [
        "class Person:\n",
        "  def __init__(self, full_name, age, sex, email, phone_number):\n",
        "    self.full_name = full_name\n",
        "    self.age = age\n",
        "    self._sex = sex\n",
        "    self.__email = email\n",
        "    self.__phone_number = phone_number\n",
        "\n",
        "\n",
        "mariia = Person('Mariia Verbytska', 19, 'female', 'mariia.verbytska@ukma.edu.ua', '123456')\n",
        "print(mariia._sex)\n",
        "print(mariia.__email)\n",
        "# print(mariia.__phone_number)"
      ],
      "metadata": {
        "id": "r9b3vJxBMSPV",
        "colab": {
          "base_uri": "https://localhost:8080/",
          "height": 216
        },
        "outputId": "0a55633a-982e-471f-c23b-f49ba0046d4c"
      },
      "execution_count": 21,
      "outputs": [
        {
          "output_type": "stream",
          "name": "stdout",
          "text": [
            "female\n"
          ]
        },
        {
          "output_type": "error",
          "ename": "AttributeError",
          "evalue": "'Person' object has no attribute '__email'",
          "traceback": [
            "\u001b[0;31m---------------------------------------------------------------------------\u001b[0m",
            "\u001b[0;31mAttributeError\u001b[0m                            Traceback (most recent call last)",
            "\u001b[0;32m<ipython-input-21-f1a04d693145>\u001b[0m in \u001b[0;36m<cell line: 12>\u001b[0;34m()\u001b[0m\n\u001b[1;32m     10\u001b[0m \u001b[0mmariia\u001b[0m \u001b[0;34m=\u001b[0m \u001b[0mPerson\u001b[0m\u001b[0;34m(\u001b[0m\u001b[0;34m'Mariia Verbytska'\u001b[0m\u001b[0;34m,\u001b[0m \u001b[0;36m19\u001b[0m\u001b[0;34m,\u001b[0m \u001b[0;34m'female'\u001b[0m\u001b[0;34m,\u001b[0m \u001b[0;34m'mariia.verbytska@ukma.edu.ua'\u001b[0m\u001b[0;34m,\u001b[0m \u001b[0;34m'123456'\u001b[0m\u001b[0;34m)\u001b[0m\u001b[0;34m\u001b[0m\u001b[0;34m\u001b[0m\u001b[0m\n\u001b[1;32m     11\u001b[0m \u001b[0mprint\u001b[0m\u001b[0;34m(\u001b[0m\u001b[0mmariia\u001b[0m\u001b[0;34m.\u001b[0m\u001b[0m_sex\u001b[0m\u001b[0;34m)\u001b[0m\u001b[0;34m\u001b[0m\u001b[0;34m\u001b[0m\u001b[0m\n\u001b[0;32m---> 12\u001b[0;31m \u001b[0mprint\u001b[0m\u001b[0;34m(\u001b[0m\u001b[0mmariia\u001b[0m\u001b[0;34m.\u001b[0m\u001b[0m__email\u001b[0m\u001b[0;34m)\u001b[0m\u001b[0;34m\u001b[0m\u001b[0;34m\u001b[0m\u001b[0m\n\u001b[0m\u001b[1;32m     13\u001b[0m \u001b[0;31m# print(mariia.__phone_number)\u001b[0m\u001b[0;34m\u001b[0m\u001b[0;34m\u001b[0m\u001b[0m\n",
            "\u001b[0;31mAttributeError\u001b[0m: 'Person' object has no attribute '__email'"
          ]
        }
      ]
    },
    {
      "cell_type": "markdown",
      "source": [
        "4. (7б). Як ви розумієте термін self? Для чого використовується метод __init __?"
      ],
      "metadata": {
        "id": "5op2m2vgMSkZ"
      }
    },
    {
      "cell_type": "markdown",
      "source": [
        "### Відповідь:\n",
        "*self* означає екземпляр класу; за допомогою цього ключового слова можна отримувати доступ до атрибутів та методів класу;\n",
        "\n",
        "метод *__init__* використовується для ініціалізації нового обʼєкта класу; коли створюється новий обʼєкт класу, цей метод викликається \"під капотом\", беручи сам обʼєкт класу в якості першого аргумента, і далі використовує наступні передані в метод аргументи, якщо вони є.\n",
        "\n"
      ],
      "metadata": {
        "id": "DyiPqNRvMasx"
      }
    },
    {
      "cell_type": "markdown",
      "source": [
        "5. (9б). Створіть клас Фігура без атрибутів, з методом get_area для отримання площі фігури, що повертає 0 та __add __, який приймає self та other в якості аргументів, а повертає суму площин фігур self та other."
      ],
      "metadata": {
        "id": "-6X8EGfjMd2y"
      }
    },
    {
      "cell_type": "code",
      "source": [
        "class Shape:\n",
        "  def __init__(self):\n",
        "    pass\n",
        "\n",
        "  def get_area(self):\n",
        "    return 0\n",
        "\n",
        "  def __add__(self, other):\n",
        "    if isinstance(other, Shape):\n",
        "      return self.get_area() + other.get_area()"
      ],
      "metadata": {
        "id": "4rvO_wYUMaEr"
      },
      "execution_count": 37,
      "outputs": []
    },
    {
      "cell_type": "markdown",
      "source": [
        "6. (11б). Створіть 2 дочірніх класи від Фігури: Трикутник та Коло, які мають атрибути, необхідні для розрахунку площин. Визначте метод get_area в кожному з них так, щоби вони розраховували площу в залежності від формули для кожного типу фігури. Створіть обʼєкт класу Трикутник та обʼєкт класу Коло. Виконайте операцію суми за допомогою оператора + між ними."
      ],
      "metadata": {
        "id": "SFcKnnv5Mo_z"
      }
    },
    {
      "cell_type": "code",
      "source": [
        "import math\n",
        "class Triangle(Shape):\n",
        "  def __init__(self, first_side, second_side, third_side):\n",
        "    super().__init__()\n",
        "    self.first_side = first_side\n",
        "    self.second_side = second_side\n",
        "    self.third_side = third_side\n",
        "\n",
        "\n",
        "  def get_area(self):\n",
        "    semi_perimeter = (self.first_side + self.second_side + self.third_side) / 2\n",
        "    triangle_area = math.sqrt(semi_perimeter * (semi_perimeter - self.first_side)\n",
        "    * (semi_perimeter - self.second_side) * (semi_perimeter - self.third_side))\n",
        "    return triangle_area\n",
        "\n",
        "\n",
        "class Circle(Shape):\n",
        "  def __init__(self, radius):\n",
        "    super().__init__()\n",
        "    self.radius = radius\n",
        "\n",
        "  def get_area(self):\n",
        "    circle_area = math.pi * (self.radius ** 2)\n",
        "    return circle_area\n",
        "\n",
        "\n",
        "# classes testing\n",
        "my_triangle = Triangle(3, 4, 5)\n",
        "print(f'My triangle\\'s area: {my_triangle.get_area()}')\n",
        "my_circle = Circle(4)\n",
        "print(f'My circle\\'s area: {my_circle.get_area()}')\n",
        "common_area = my_triangle + my_circle\n",
        "print(f'Common area: {common_area}')"
      ],
      "metadata": {
        "id": "H3GVNr69Muf3",
        "colab": {
          "base_uri": "https://localhost:8080/"
        },
        "outputId": "39542ac1-ca47-429e-f66d-8a0042e7bb6b"
      },
      "execution_count": 40,
      "outputs": [
        {
          "output_type": "stream",
          "name": "stdout",
          "text": [
            "My triangle's area: 6.0\n",
            "My circle's area: 50.26548245743669\n",
            "Common area: 56.26548245743669\n"
          ]
        }
      ]
    },
    {
      "cell_type": "markdown",
      "source": [
        "7. (3б). Продемонструйте різницю між isinstance та issubclass."
      ],
      "metadata": {
        "id": "HCvR206YMvLK"
      }
    },
    {
      "cell_type": "code",
      "source": [
        "print(isinstance(my_circle, Circle))\n",
        "print(issubclass(Triangle, Shape))"
      ],
      "metadata": {
        "id": "L_V1bBvDM0GN",
        "colab": {
          "base_uri": "https://localhost:8080/"
        },
        "outputId": "4951214d-3caf-4b75-b5aa-534de24dca3b"
      },
      "execution_count": 46,
      "outputs": [
        {
          "output_type": "stream",
          "name": "stdout",
          "text": [
            "True\n",
            "True\n"
          ]
        }
      ]
    },
    {
      "cell_type": "markdown",
      "source": [
        "8. (13б). Створіть клас BankAccount з приватними атрибутами balance та account_number. Реалізуйте методи поповнення та зняття коштів, забезпечивши належну інкапсуляцію. Підказка: використовуйте декоратори property та setter."
      ],
      "metadata": {
        "id": "jjsaBZ-iM0Qq"
      }
    },
    {
      "cell_type": "code",
      "source": [
        "class BankAccount:\n",
        "  def __init__(self, balance, account_number):\n",
        "    self.__balance = balance\n",
        "    self.__account_number = account_number\n",
        "\n",
        "  @property\n",
        "  def balance(self):\n",
        "    return self.__balance\n",
        "\n",
        "  @property\n",
        "  def account_number(self):\n",
        "    return self.__account_number\n",
        "\n",
        "  @balance.setter\n",
        "  def balance(self, value):\n",
        "      self.__balance = value\n",
        "\n",
        "  def withdraw_money(self, passed_account_number, amount):\n",
        "    if passed_account_number == self.__account_number:\n",
        "      self.__balance = self.__balance - amount\n",
        "    else:\n",
        "      print('Incorrect account number!')\n",
        "\n",
        "  def deposit_money(self, passed_account_number, amount):\n",
        "    if passed_account_number == self.__account_number:\n",
        "      self.__balance = self.__balance + amount\n",
        "    else:\n",
        "      print('Incorrect account number!')\n",
        "\n",
        "my_account = BankAccount(300000, 12345)\n",
        "print(f'Current balance: {my_account.balance}')\n",
        "my_account.withdraw_money(12345, 50000)\n",
        "print(f'My balance now: {my_account.balance}')\n",
        "my_account.deposit_money(12345, 10000)\n",
        "print(f'My balance now: {my_account.balance}')"
      ],
      "metadata": {
        "id": "xCvZ7lh8M7YA",
        "colab": {
          "base_uri": "https://localhost:8080/"
        },
        "outputId": "99f907ca-49d1-408b-ef8e-563ec317e048"
      },
      "execution_count": 55,
      "outputs": [
        {
          "output_type": "stream",
          "name": "stdout",
          "text": [
            "Current balance: 300000\n",
            "My balance now: 250000\n",
            "My balance now: 260000\n"
          ]
        }
      ]
    },
    {
      "cell_type": "markdown",
      "source": [
        "9. (11б). Створіть клас Library, який містить список об'єктів типу Book. Реалізуйте методи для додавання книги, видалення книги та відображення списку книг."
      ],
      "metadata": {
        "id": "tIzL2SJTM8ft"
      }
    },
    {
      "cell_type": "code",
      "source": [
        "class Book:\n",
        "  def __init__(self, book_name, book_id, pages_number,):\n",
        "    self.book_name = book_name\n",
        "    self.book_id = book_id\n",
        "    self.pages_number = pages_number\n",
        "\n",
        "  def __str__(self):\n",
        "    return f'Book \\'{self.book_name}\\', id: {self.book_id}, number of pages: {self.pages_number}'\n",
        "\n",
        "\n",
        "class Library:\n",
        "  def __init__(self):\n",
        "    self.books = []\n",
        "\n",
        "  def add_book(self, new_book):\n",
        "    if isinstance(new_book, Book):\n",
        "      self.books.append(new_book)\n",
        "\n",
        "  def remove_book(self, book_to_remove):\n",
        "    if isinstance(book_to_remove, Book):\n",
        "      for book in self.books:\n",
        "        if book_to_remove.book_id == book.book_id:\n",
        "          self.books.remove(book_to_remove)\n",
        "          print(f'{book_to_remove.book_name} was removed successfully')\n",
        "          return\n",
        "\n",
        "  def display_all(self):\n",
        "    if self.books:\n",
        "      for b in self.books:\n",
        "        print(b)\n",
        "\n",
        "\n",
        "algebra = Book('Algebra 1', 345, 500)\n",
        "history = Book('History 2.2', 768, 430)\n",
        "arts = Book('Oriental Arts', 890, 332)\n",
        "\n",
        "lib = Library()\n",
        "lib.add_book(algebra)\n",
        "lib.add_book(history)\n",
        "lib.add_book(arts)\n",
        "lib.display_all()\n",
        "lib.remove_book(algebra)"
      ],
      "metadata": {
        "id": "HWxfJKLtNAUZ",
        "colab": {
          "base_uri": "https://localhost:8080/"
        },
        "outputId": "2b0a250b-11eb-4fb9-ebae-86cfd21dd435"
      },
      "execution_count": 65,
      "outputs": [
        {
          "output_type": "stream",
          "name": "stdout",
          "text": [
            "Book 'Algebra 1', id: 345, number of pages: 500\n",
            "Book 'History 2.2', id: 768, number of pages: 430\n",
            "Book 'Oriental Arts', id: 890, number of pages: 332\n",
            "Algebra 1 was removed successfully\n"
          ]
        }
      ]
    },
    {
      "cell_type": "markdown",
      "source": [
        "10. (13б). Створіть клас Person з атрибутами name та age. Створіть ще один клас Employee з такими атрибутами, як department та salary. Створіть клас Manager, який успадковує обидва класи Person та Employee. Продемонструйте використання множинної спадковості, створивши обʼєкт класу Manager та отримавши mro для цього класу."
      ],
      "metadata": {
        "id": "lmV8pAwwNIqu"
      }
    },
    {
      "cell_type": "code",
      "source": [
        "class Person:\n",
        "  def __init__(self, name, age):\n",
        "    self.name = name\n",
        "    self.age = age\n",
        "\n",
        "class Employee:\n",
        "  def __init__(self, department, salary):\n",
        "    self.department = department\n",
        "    self.salary = salary\n",
        "\n",
        "class Manager(Employee, Person):\n",
        "  def __init__(self, name, age, department, salary):\n",
        "    Person.__init__(self, name, age)\n",
        "    Employee.__init__(self, department, salary)\n",
        "\n",
        "  def __str__(self):\n",
        "    return f'Manager\\'s name: {self.name}, age: {self.age}, department: {self.department}, salary: {self.salary}'\n",
        "\n",
        "my_manager = Manager('Artem', 22, 'IT', 50000)\n",
        "print(my_manager)\n",
        "Manager.__mro__\n"
      ],
      "metadata": {
        "id": "R49grKlWNPeN",
        "colab": {
          "base_uri": "https://localhost:8080/"
        },
        "outputId": "03f121ce-01a1-4e3d-d657-4a2cfbc124b6"
      },
      "execution_count": 11,
      "outputs": [
        {
          "output_type": "stream",
          "name": "stdout",
          "text": [
            "Manager's name: Artem, age: 22, department: IT, salary: 50000\n"
          ]
        },
        {
          "output_type": "execute_result",
          "data": {
            "text/plain": [
              "(__main__.Manager, __main__.Employee, __main__.Person, object)"
            ]
          },
          "metadata": {},
          "execution_count": 11
        }
      ]
    },
    {
      "cell_type": "markdown",
      "source": [
        "# II. Iterator"
      ],
      "metadata": {
        "id": "dIJyUiNBFG8G"
      }
    },
    {
      "cell_type": "markdown",
      "source": [
        "11. (4б). Визначте рядок(str) з 4ма різними за значенням символами. Створіть ітератор на основі цього рядка. Викличте 5 разів функцію next на ітераторі, 4ри перших з них огорніть у ф-цію print()."
      ],
      "metadata": {
        "id": "13vsm0NyKIzL"
      }
    },
    {
      "cell_type": "code",
      "source": [
        "my_string = str('abcd')\n",
        "n = len(my_string)\n",
        "\n",
        "my_iterator = iter(my_string)\n",
        "for i in range(n):\n",
        "  value = next(my_iterator)\n",
        "  if i < n:\n",
        "    print(value)\n",
        "  else:\n",
        "    raise StopIteration"
      ],
      "metadata": {
        "id": "81ntabAkKuz-",
        "colab": {
          "base_uri": "https://localhost:8080/"
        },
        "outputId": "310fd9bf-3a8a-4c4c-97e6-b6c25cc88117"
      },
      "execution_count": 12,
      "outputs": [
        {
          "output_type": "stream",
          "name": "stdout",
          "text": [
            "a\n",
            "b\n",
            "c\n",
            "d\n"
          ]
        }
      ]
    },
    {
      "cell_type": "markdown",
      "source": [
        "А що якщо викликати цю ж функцію на рядку?"
      ],
      "metadata": {
        "id": "aekWHGXOLRsO"
      }
    },
    {
      "cell_type": "code",
      "source": [
        "my_error_iterator = iter(my_string)\n",
        "for i in range(n):\n",
        "  value = next(my_string)\n",
        "  print(value)"
      ],
      "metadata": {
        "id": "mxATGsErLV1i",
        "colab": {
          "base_uri": "https://localhost:8080/",
          "height": 198
        },
        "outputId": "9fc972b3-ad87-42bc-8296-0c0993de3188"
      },
      "execution_count": 13,
      "outputs": [
        {
          "output_type": "error",
          "ename": "TypeError",
          "evalue": "'str' object is not an iterator",
          "traceback": [
            "\u001b[0;31m---------------------------------------------------------------------------\u001b[0m",
            "\u001b[0;31mTypeError\u001b[0m                                 Traceback (most recent call last)",
            "\u001b[0;32m<ipython-input-13-eeb87d6222a5>\u001b[0m in \u001b[0;36m<cell line: 2>\u001b[0;34m()\u001b[0m\n\u001b[1;32m      1\u001b[0m \u001b[0mmy_error_iterator\u001b[0m \u001b[0;34m=\u001b[0m \u001b[0miter\u001b[0m\u001b[0;34m(\u001b[0m\u001b[0mmy_string\u001b[0m\u001b[0;34m)\u001b[0m\u001b[0;34m\u001b[0m\u001b[0;34m\u001b[0m\u001b[0m\n\u001b[1;32m      2\u001b[0m \u001b[0;32mfor\u001b[0m \u001b[0mi\u001b[0m \u001b[0;32min\u001b[0m \u001b[0mrange\u001b[0m\u001b[0;34m(\u001b[0m\u001b[0mn\u001b[0m\u001b[0;34m)\u001b[0m\u001b[0;34m:\u001b[0m\u001b[0;34m\u001b[0m\u001b[0;34m\u001b[0m\u001b[0m\n\u001b[0;32m----> 3\u001b[0;31m   \u001b[0mvalue\u001b[0m \u001b[0;34m=\u001b[0m \u001b[0mnext\u001b[0m\u001b[0;34m(\u001b[0m\u001b[0mmy_string\u001b[0m\u001b[0;34m)\u001b[0m\u001b[0;34m\u001b[0m\u001b[0;34m\u001b[0m\u001b[0m\n\u001b[0m\u001b[1;32m      4\u001b[0m   \u001b[0mprint\u001b[0m\u001b[0;34m(\u001b[0m\u001b[0mvalue\u001b[0m\u001b[0;34m)\u001b[0m\u001b[0;34m\u001b[0m\u001b[0;34m\u001b[0m\u001b[0m\n",
            "\u001b[0;31mTypeError\u001b[0m: 'str' object is not an iterator"
          ]
        }
      ]
    },
    {
      "cell_type": "markdown",
      "source": [
        " 12. (5б). Опишіть своїми словами в одному реченні, як ви розумієте різницю між ітерабельними обʼєктами та ітераторами (можна на прикладі)."
      ],
      "metadata": {
        "id": "XwtMEopwJ4pH"
      }
    },
    {
      "cell_type": "markdown",
      "source": [
        "### Відповідь:\n",
        "Ітерабельний обʼєкт це той, над яким можна здійснити процес ітерації, тобто пройтися циклом, наприклад, for і перерахувати обʼєкти колекції, яка є ітерабельною (наприклад, list)\n",
        "\n",
        "Ітератор сам по собі є обʼєктом, і він проводить процес ітерації над ітерабельним обʼєктом.\n",
        "\n",
        "Якщо коротко, ітератор це той, ЩО ВИКОНУЄ ітерацію, а ітерабельний обʼєкт це той, НАД ЯКИМ МОЖЕ ВИКОНУВАТИСЯ ітерація"
      ],
      "metadata": {
        "id": "-sHrODc3KFn8"
      }
    },
    {
      "cell_type": "markdown",
      "source": [
        "13. (11б). Створіть клас, що має визначений Iterator Protocol та при кожному виклику next повертає літери англійської абетки, поки вони не вичерпаються."
      ],
      "metadata": {
        "id": "E9qJWmNbK8Gl"
      }
    },
    {
      "cell_type": "code",
      "source": [
        "class AlphabetIterator:\n",
        "  def __init__(self):\n",
        "    self.current_position = ord('a')\n",
        "\n",
        "  def __iter__(self):\n",
        "    return self\n",
        "\n",
        "  def __next__(self):\n",
        "    if self.current_position <= ord('z'):\n",
        "      letter = chr(self.current_position)\n",
        "      self.current_position += 1\n",
        "      return letter\n",
        "    else:\n",
        "      raise StopIteration\n",
        "\n",
        "my_alphabet_iterator = AlphabetIterator()\n",
        "for _ in range((ord('z') - ord('a')) + 1):\n",
        "  print(next(my_alphabet_iterator))"
      ],
      "metadata": {
        "id": "cqx-g_RsLo6I",
        "colab": {
          "base_uri": "https://localhost:8080/"
        },
        "outputId": "745e377e-c1ab-431f-a6d3-eb4626fc73ca"
      },
      "execution_count": 34,
      "outputs": [
        {
          "output_type": "stream",
          "name": "stdout",
          "text": [
            "a\n",
            "b\n",
            "c\n",
            "d\n",
            "e\n",
            "f\n",
            "g\n",
            "h\n",
            "i\n",
            "j\n",
            "k\n",
            "l\n",
            "m\n",
            "n\n",
            "o\n",
            "p\n",
            "q\n",
            "r\n",
            "s\n",
            "t\n",
            "u\n",
            "v\n",
            "w\n",
            "x\n",
            "y\n",
            "z\n"
          ]
        }
      ]
    },
    {
      "cell_type": "code",
      "source": [
        "# example of error iterator when the number of letters in not exactly 26\n",
        "my_error_alphabet_iterator = AlphabetIterator()\n",
        "for _ in range(30):\n",
        "  print(next(my_error_alphabet_iterator))"
      ],
      "metadata": {
        "colab": {
          "base_uri": "https://localhost:8080/",
          "height": 769
        },
        "id": "Q3y3qMSfrt9m",
        "outputId": "d0000d16-404f-43f0-add3-1b9c2185f678"
      },
      "execution_count": 36,
      "outputs": [
        {
          "output_type": "stream",
          "name": "stdout",
          "text": [
            "a\n",
            "b\n",
            "c\n",
            "d\n",
            "e\n",
            "f\n",
            "g\n",
            "h\n",
            "i\n",
            "j\n",
            "k\n",
            "l\n",
            "m\n",
            "n\n",
            "o\n",
            "p\n",
            "q\n",
            "r\n",
            "s\n",
            "t\n",
            "u\n",
            "v\n",
            "w\n",
            "x\n",
            "y\n",
            "z\n"
          ]
        },
        {
          "output_type": "error",
          "ename": "StopIteration",
          "evalue": "",
          "traceback": [
            "\u001b[0;31m---------------------------------------------------------------------------\u001b[0m",
            "\u001b[0;31mStopIteration\u001b[0m                             Traceback (most recent call last)",
            "\u001b[0;32m<ipython-input-36-c7517bf61394>\u001b[0m in \u001b[0;36m<cell line: 3>\u001b[0;34m()\u001b[0m\n\u001b[1;32m      2\u001b[0m \u001b[0mmy_error_alphabet_iterator\u001b[0m \u001b[0;34m=\u001b[0m \u001b[0mAlphabetIterator\u001b[0m\u001b[0;34m(\u001b[0m\u001b[0;34m)\u001b[0m\u001b[0;34m\u001b[0m\u001b[0;34m\u001b[0m\u001b[0m\n\u001b[1;32m      3\u001b[0m \u001b[0;32mfor\u001b[0m \u001b[0m_\u001b[0m \u001b[0;32min\u001b[0m \u001b[0mrange\u001b[0m\u001b[0;34m(\u001b[0m\u001b[0;36m30\u001b[0m\u001b[0;34m)\u001b[0m\u001b[0;34m:\u001b[0m\u001b[0;34m\u001b[0m\u001b[0;34m\u001b[0m\u001b[0m\n\u001b[0;32m----> 4\u001b[0;31m   \u001b[0mprint\u001b[0m\u001b[0;34m(\u001b[0m\u001b[0mnext\u001b[0m\u001b[0;34m(\u001b[0m\u001b[0mmy_error_alphabet_iterator\u001b[0m\u001b[0;34m)\u001b[0m\u001b[0;34m)\u001b[0m\u001b[0;34m\u001b[0m\u001b[0;34m\u001b[0m\u001b[0m\n\u001b[0m",
            "\u001b[0;32m<ipython-input-34-1855d4bd8782>\u001b[0m in \u001b[0;36m__next__\u001b[0;34m(self)\u001b[0m\n\u001b[1;32m     12\u001b[0m       \u001b[0;32mreturn\u001b[0m \u001b[0mletter\u001b[0m\u001b[0;34m\u001b[0m\u001b[0;34m\u001b[0m\u001b[0m\n\u001b[1;32m     13\u001b[0m     \u001b[0;32melse\u001b[0m\u001b[0;34m:\u001b[0m\u001b[0;34m\u001b[0m\u001b[0;34m\u001b[0m\u001b[0m\n\u001b[0;32m---> 14\u001b[0;31m       \u001b[0;32mraise\u001b[0m \u001b[0mStopIteration\u001b[0m\u001b[0;34m\u001b[0m\u001b[0;34m\u001b[0m\u001b[0m\n\u001b[0m\u001b[1;32m     15\u001b[0m \u001b[0;34m\u001b[0m\u001b[0m\n\u001b[1;32m     16\u001b[0m \u001b[0mmy_alphabet_iterator\u001b[0m \u001b[0;34m=\u001b[0m \u001b[0mAlphabetIterator\u001b[0m\u001b[0;34m(\u001b[0m\u001b[0;34m)\u001b[0m\u001b[0;34m\u001b[0m\u001b[0;34m\u001b[0m\u001b[0m\n",
            "\u001b[0;31mStopIteration\u001b[0m: "
          ]
        }
      ]
    },
    {
      "cell_type": "markdown",
      "source": [
        "# Вітаю! Ви велика(ий) молодець, що впоралась(вся). Похваліть себе та побалуйте чимось приємним. Я Вами пишаюся."
      ],
      "metadata": {
        "id": "Z3E3S_s1Fv7-"
      }
    }
  ]
}