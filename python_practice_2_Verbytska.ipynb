{
  "nbformat": 4,
  "nbformat_minor": 0,
  "metadata": {
    "colab": {
      "provenance": []
    },
    "kernelspec": {
      "name": "python3",
      "display_name": "Python 3"
    },
    "language_info": {
      "name": "python"
    }
  },
  "cells": [
    {
      "cell_type": "markdown",
      "source": [
        "# I. Змінні та памʼять."
      ],
      "metadata": {
        "id": "p9wwt0LZzNvn"
      }
    },
    {
      "cell_type": "markdown",
      "source": [
        "1. Створити змінні, що посилаються на два цілих числа, що однакові за значенням, де значення належить проміжку від -5 до 256. Перевірте, чи будуть ці змінні рівні тільки за значенням або ж ще будуть посилатися на один і той самий обʼєкт в памʼяті? Наведіть код та дайте текстову відповідь нижче."
      ],
      "metadata": {
        "id": "HTJrrm95xSV9"
      }
    },
    {
      "cell_type": "code",
      "execution_count": 1,
      "metadata": {
        "id": "TATni2vzayjG",
        "colab": {
          "base_uri": "https://localhost:8080/"
        },
        "outputId": "ec8bcd48-5656-4fe4-df36-88a335ae5bc0"
      },
      "outputs": [
        {
          "output_type": "stream",
          "name": "stdout",
          "text": [
            "132204713363792 132204713363792\n"
          ]
        }
      ],
      "source": [
        "my_int_1 = 68\n",
        "my_int_2 = 68\n",
        "print(id(my_int_1), id(my_int_2))"
      ]
    },
    {
      "cell_type": "markdown",
      "source": [
        "### Відповідь:\n",
        "Так, будуть, оскільки в пайтоні цілочисельні значення, що належать проміжку від -5 до 256, є \"зарезервованими\", тож оскільки вони використовуються дуже часто й можуть викликатися багато разів в межах одного скрипта, змінні, що містять однакові integer values із цього проміжка (68 в нашому випадку), завжди посилаються на одне й те саме місце в памʼяті, відповідно, мають однакові айдішники (id).\n"
      ],
      "metadata": {
        "id": "zfRG_o3WbRdg"
      }
    },
    {
      "cell_type": "markdown",
      "source": [
        "2. За допомогою якої функції можна перевірити належність змінної до вказаного типу даних (напр. чи змінна True посилається на значення булевого та цілочисленого типу)?"
      ],
      "metadata": {
        "id": "ISORzt6M3vAt"
      }
    },
    {
      "cell_type": "code",
      "source": [
        "print(isinstance(True, int))\n",
        "print(isinstance(False, bool))"
      ],
      "metadata": {
        "id": "9vL9CFaMbfyo",
        "colab": {
          "base_uri": "https://localhost:8080/"
        },
        "outputId": "43bddc32-22bc-414c-955b-b88b222f713b"
      },
      "execution_count": 6,
      "outputs": [
        {
          "output_type": "stream",
          "name": "stdout",
          "text": [
            "True\n",
            "True\n"
          ]
        }
      ]
    },
    {
      "cell_type": "markdown",
      "source": [
        "# II. Цілі числа та числа з рухомою комою"
      ],
      "metadata": {
        "id": "tRxugKAxwYLw"
      }
    },
    {
      "cell_type": "markdown",
      "source": [
        "3. Створити дві змінні, що посилаються на будь-які ціле число та число з рухомою комою та продемонструвати такі арифметичні операції: додавання, віднімання, ділення, множення, ділення без залишку, ділення по модулю, приведення до ступеню. Всі результати операцій вивести на екран."
      ],
      "metadata": {
        "id": "NLHkgd5Gybc8"
      }
    },
    {
      "cell_type": "code",
      "source": [
        "integer_value = 15\n",
        "float_point_number = 2.97\n",
        "\n",
        "addition_res = integer_value + float_point_number\n",
        "subtraction_res = integer_value - float_point_number\n",
        "multiplication_res = integer_value * float_point_number\n",
        "division_res = integer_value / float_point_number\n",
        "integer_division_res = integer_value // float_point_number\n",
        "mod_division_res = integer_value % float_point_number\n",
        "power_res = integer_value ** float_point_number\n",
        "\n",
        "print(f'Given numbers: {integer_value}, {float_point_number}\\n',\n",
        "      f'Addition: {addition_res}\\n',\n",
        "      f'Subtraction: {subtraction_res}\\n',\n",
        "      f'Multiplication: {multiplication_res}\\n',\n",
        "      f'Division: {division_res}\\n',\n",
        "      f'Integer division: {integer_division_res}\\n',\n",
        "      f'Mod division: {mod_division_res}\\n',\n",
        "      f'Power: {power_res}'\n",
        "      )"
      ],
      "metadata": {
        "id": "nb8u_3pjb2cA",
        "colab": {
          "base_uri": "https://localhost:8080/"
        },
        "outputId": "9173bc14-4596-4f18-83f7-02045fb3860f"
      },
      "execution_count": 8,
      "outputs": [
        {
          "output_type": "stream",
          "name": "stdout",
          "text": [
            "Given numbers: 15, 2.97\n",
            " Addition: 17.97\n",
            " Subtraction: 12.03\n",
            " Multiplication: 44.550000000000004\n",
            " Division: 5.05050505050505\n",
            " Integer division: 5.0\n",
            " Mod division: 0.14999999999999902\n",
            " Power: 3111.652135111005\n"
          ]
        }
      ]
    },
    {
      "cell_type": "markdown",
      "source": [
        "4. Використовуючи змінні з вправи 3, продемонструйте механізм явного перетворення типів, де числа з рухомою комою перетворюються на цілі числа. Також визначте змінну, що посилається на значення булевого типу і спробуйте явно привести її до цілого числа."
      ],
      "metadata": {
        "id": "1kBClKgPzZnC"
      }
    },
    {
      "cell_type": "code",
      "source": [
        "float_to_int = int(float_point_number)\n",
        "int_to_float = float(integer_value)\n",
        "some_bool = False\n",
        "bool_to_int = int(some_bool)\n",
        "\n",
        "print(f'Float to int: {float_to_int}\\n',\n",
        "      f'Int to float: {int_to_float}\\n',\n",
        "      f'Bool to int: {bool_to_int}'\n",
        ")"
      ],
      "metadata": {
        "id": "TbqJbkeUcKsD",
        "colab": {
          "base_uri": "https://localhost:8080/"
        },
        "outputId": "07fb7428-b9ef-4c25-9beb-c5b35eadfb0c"
      },
      "execution_count": 10,
      "outputs": [
        {
          "output_type": "stream",
          "name": "stdout",
          "text": [
            "Float to int: 2\n",
            " Int to float: 15.0\n",
            " Bool to int: 0\n"
          ]
        }
      ]
    },
    {
      "cell_type": "markdown",
      "source": [
        "# IІІ. Рядки (String)."
      ],
      "metadata": {
        "id": "EVJ7AflwxrZi"
      }
    },
    {
      "cell_type": "markdown",
      "source": [
        "5. Створити пустий рядок двома різними способами."
      ],
      "metadata": {
        "id": "_s5ECzz9zE61"
      }
    },
    {
      "cell_type": "code",
      "source": [
        "empty_string = ''\n",
        "another_empty_string = str()"
      ],
      "metadata": {
        "id": "fkZJHu9Scvc-"
      },
      "execution_count": 11,
      "outputs": []
    },
    {
      "cell_type": "markdown",
      "source": [
        "6. Створити рядок з апострофом. Зробити його сирим. Вивести обидва рядка на екран."
      ],
      "metadata": {
        "id": "4Bdn9J3MzLf_"
      }
    },
    {
      "cell_type": "code",
      "source": [
        "string_with_apostrophe = \"Mariia's book\"\n",
        "raw_string_with_apostrophe = r\"Mariia's book\"\n",
        "print(string_with_apostrophe, '\\n', raw_string_with_apostrophe)"
      ],
      "metadata": {
        "id": "ivji_hsmc0GH",
        "colab": {
          "base_uri": "https://localhost:8080/"
        },
        "outputId": "40e107aa-b34f-4611-e32c-f578802c5149"
      },
      "execution_count": 13,
      "outputs": [
        {
          "output_type": "stream",
          "name": "stdout",
          "text": [
            "Mariia's book \n",
            " Mariia's book\n"
          ]
        }
      ]
    },
    {
      "cell_type": "markdown",
      "source": [
        "7. Створити змінну, що буде посилатися на Ваше прізвище латинкою. Створити форматований рядок, який буде мати вигляд \"My surname is ______\", де на місці нижніх підкреслень буде Ваше прізвище зі змінної."
      ],
      "metadata": {
        "id": "bg_d8wM4z8dS"
      }
    },
    {
      "cell_type": "code",
      "source": [
        "my_surname = 'Verbytska'\n",
        "formatted_string = f'My surname is {my_surname}'\n",
        "print(formatted_string)"
      ],
      "metadata": {
        "id": "kuxFgpWndACq",
        "colab": {
          "base_uri": "https://localhost:8080/"
        },
        "outputId": "6a878593-eb97-44fd-a3dc-d3cc345b9b82"
      },
      "execution_count": 14,
      "outputs": [
        {
          "output_type": "stream",
          "name": "stdout",
          "text": [
            "My surname is Verbytska\n"
          ]
        }
      ]
    },
    {
      "cell_type": "markdown",
      "source": [
        "8. Маючи рядок \"My dog is crazy.\" перетворити його на список [\"my\", \"dog\", \"is\", \"crazy\"]"
      ],
      "metadata": {
        "id": "1Nc6RqvQ0hxU"
      }
    },
    {
      "cell_type": "code",
      "source": [
        "dog_description = 'My dog is crazy'\n",
        "list_dog_description = dog_description.lower().split()\n",
        "print(list_dog_description)"
      ],
      "metadata": {
        "id": "w1Ya4RqedUhw",
        "colab": {
          "base_uri": "https://localhost:8080/"
        },
        "outputId": "46bd4018-9b1c-4b93-91f2-1df62a4f0d5c"
      },
      "execution_count": 17,
      "outputs": [
        {
          "output_type": "stream",
          "name": "stdout",
          "text": [
            "['my', 'dog', 'is', 'crazy']\n"
          ]
        }
      ]
    },
    {
      "cell_type": "markdown",
      "source": [
        "# IV. Робота зі списками."
      ],
      "metadata": {
        "id": "GYVqN9uP1D4n"
      }
    },
    {
      "cell_type": "markdown",
      "source": [
        "9. Створити список двома різними за синтаксисом способами. За допомогою вбудованої функції обчисліть довжину одного з них."
      ],
      "metadata": {
        "id": "7-DeDunw2sO-"
      }
    },
    {
      "cell_type": "code",
      "source": [
        "mode_1_list = [1, 2, 3, 4, 5]\n",
        "mode_2_list = list([1, 2, 3])\n",
        "print(len(mode_2_list))"
      ],
      "metadata": {
        "id": "zxg06Uuxdyoh",
        "colab": {
          "base_uri": "https://localhost:8080/"
        },
        "outputId": "92bc1e59-ab3e-4dcc-b31d-fbc8c568941c"
      },
      "execution_count": 18,
      "outputs": [
        {
          "output_type": "stream",
          "name": "stdout",
          "text": [
            "3\n"
          ]
        }
      ]
    },
    {
      "cell_type": "markdown",
      "source": [
        "10. Створіть два списка та за допомогою спеціального методу додайте другий з них в якості останнього елемента першого."
      ],
      "metadata": {
        "id": "8vmGUTjL22gI"
      }
    },
    {
      "cell_type": "code",
      "source": [
        "mode_1_list.append(mode_2_list)\n",
        "print(mode_1_list)"
      ],
      "metadata": {
        "id": "uHtjWYw7d7hm",
        "colab": {
          "base_uri": "https://localhost:8080/"
        },
        "outputId": "f2fa52e9-a9be-4851-8739-f858700ad94d"
      },
      "execution_count": 19,
      "outputs": [
        {
          "output_type": "stream",
          "name": "stdout",
          "text": [
            "[1, 2, 3, 4, 5, [1, 2, 3]]\n"
          ]
        }
      ]
    },
    {
      "cell_type": "markdown",
      "source": [
        "11. Створіть список, де елементами цього списку також є списки. Отримай перший елемент з останнього рядка та виведи значення на екран."
      ],
      "metadata": {
        "id": "JC3BkD-67_--"
      }
    },
    {
      "cell_type": "code",
      "source": [
        "list_of_lists = [[1, 2, 3], [4, 5, 6], [7, 8, 9]]\n",
        "extracted_element = list_of_lists[2][0]\n",
        "print(extracted_element)"
      ],
      "metadata": {
        "id": "Kz2jZHsGeLlz",
        "colab": {
          "base_uri": "https://localhost:8080/"
        },
        "outputId": "0829279b-7c2b-4ec1-9033-9259ae0d0500"
      },
      "execution_count": 20,
      "outputs": [
        {
          "output_type": "stream",
          "name": "stdout",
          "text": [
            "7\n"
          ]
        }
      ]
    },
    {
      "cell_type": "markdown",
      "source": [
        "12. Створіть список з десяти елементів різного типу. Отримайте всі елементи, окрім двох перших та двох останніх та збережіть їх в новій змінній."
      ],
      "metadata": {
        "id": "JA47PKTv8zFK"
      }
    },
    {
      "cell_type": "code",
      "source": [
        "crazy_list = [1, 3.5, 'Mariia', (10, 11), {55, 66, 77}, True, {'key': 'value'}, None, ['list', 'of', 'lists'], '\\n']\n",
        "sliced_list = crazy_list[2:8]\n",
        "print(sliced_list)"
      ],
      "metadata": {
        "id": "_rHdUR-ueP4-",
        "colab": {
          "base_uri": "https://localhost:8080/"
        },
        "outputId": "74ff92a5-2a82-4c2e-faaa-fbe91c18d3bb"
      },
      "execution_count": 23,
      "outputs": [
        {
          "output_type": "stream",
          "name": "stdout",
          "text": [
            "['Mariia', (10, 11), {66, 77, 55}, True, {'key': 'value'}, None]\n"
          ]
        }
      ]
    },
    {
      "cell_type": "markdown",
      "source": [
        "# V. Робота з кортежами."
      ],
      "metadata": {
        "id": "pCjR1dJb1Qbi"
      }
    },
    {
      "cell_type": "markdown",
      "source": [
        "14. Створити кортеж з один елементом."
      ],
      "metadata": {
        "id": "fAZCxAX06R_k"
      }
    },
    {
      "cell_type": "code",
      "source": [
        "one_element_tuple = (5, )\n",
        "print(f'One element tuple: {one_element_tuple}')"
      ],
      "metadata": {
        "id": "H7d82WkQev3e",
        "colab": {
          "base_uri": "https://localhost:8080/"
        },
        "outputId": "5977a4b7-5519-4e20-84df-ee1d97723216"
      },
      "execution_count": 27,
      "outputs": [
        {
          "output_type": "stream",
          "name": "stdout",
          "text": [
            "One element tuple: (5,)\n"
          ]
        }
      ]
    },
    {
      "cell_type": "markdown",
      "source": [
        "15. Порівняйте список та кортеж. Назвіть схожості та відмінності, випадки використання."
      ],
      "metadata": {
        "id": "8LCtYcmI6w1M"
      }
    },
    {
      "cell_type": "markdown",
      "source": [
        "### Відповідь:\n",
        "Схожості: упорядковані, можуть містити елементи різних типів, можна звертатися до елемента однозначно за його індексом, обидві структури допускають наявність повторюваних елементів.\n",
        "\n",
        "Відмінності: список можна змінювати після ініціалізації, кортеж – незмінний => будь-які операції з кортежом дають новий кортеж.\n",
        "\n",
        "Тож список зручно використовувати коли нам постійно потрібно буде оновлювати його елементи, додавати нові чи вилучати інші, відповідно кортеж використовується коли такої необхідності немає, + кортежі можуть бути швидші."
      ],
      "metadata": {
        "id": "fUsN1Hnue0C6"
      }
    },
    {
      "cell_type": "markdown",
      "source": [
        "16. Створіть кортеж з 11ти елементів чисел з рухомою комою та отримайте кожен парний за індексом елемент в зворотньому порядку. Наприклад, маючи (1.2, 2.3, 3.3, 4.3, 5.3, 6.3, 7.3, 8.3, 9.3, 0.3), отримати (0.3, 8.3, 6.3, 4.3, 2.3). Результат збережіть в нову змінну та виведіть на екран."
      ],
      "metadata": {
        "id": "m0xrwFijAmDD"
      }
    },
    {
      "cell_type": "code",
      "source": [
        "floating_point_tuple = (2.5, 7.8, 9.43, 2.6, 1.89, 0.555, 3.098, 123.456, 45.97, 0.0000005)\n",
        "sliced_tuple = floating_point_tuple[8::-2]\n",
        "sliced_tuple"
      ],
      "metadata": {
        "id": "p-5DAH6XfAGA",
        "colab": {
          "base_uri": "https://localhost:8080/"
        },
        "outputId": "546269df-3f29-4b2c-ff82-c6b6f6adf9d3"
      },
      "execution_count": 41,
      "outputs": [
        {
          "output_type": "execute_result",
          "data": {
            "text/plain": [
              "(45.97, 3.098, 1.89, 9.43, 2.5)"
            ]
          },
          "metadata": {},
          "execution_count": 41
        }
      ]
    },
    {
      "cell_type": "markdown",
      "source": [
        "# VI. Множини (Set)."
      ],
      "metadata": {
        "id": "rW_I9dt3x6cW"
      }
    },
    {
      "cell_type": "markdown",
      "source": [
        "17. Створити множину без елементів. Після цого за допомогою методу додайте кілька різних елементів до множини. Чи множини є змінним типом даних?"
      ],
      "metadata": {
        "id": "zNjRLHLw1Bgg"
      }
    },
    {
      "cell_type": "code",
      "source": [
        "some_set = set()\n",
        "some_set.add(95)\n",
        "some_set.add(45)\n",
        "some_set.add(115)\n",
        "some_set"
      ],
      "metadata": {
        "id": "KOv7zc2Kfo4N",
        "colab": {
          "base_uri": "https://localhost:8080/"
        },
        "outputId": "494c8eac-7f4e-46ab-988b-9f60509e1606"
      },
      "execution_count": 40,
      "outputs": [
        {
          "output_type": "execute_result",
          "data": {
            "text/plain": [
              "{45, 95, 115}"
            ]
          },
          "metadata": {},
          "execution_count": 40
        }
      ]
    },
    {
      "cell_type": "markdown",
      "source": [
        "### Відповідь:\n",
        "Так, множина є змінним типом даних => їх можна змінювати після ініціалізації обʼєкта.\n"
      ],
      "metadata": {
        "id": "vxS6dVYiftZQ"
      }
    },
    {
      "cell_type": "markdown",
      "source": [
        "18. Створити множину, маючи список my_list = [1, 1, 2, 67, 67, 8, 9]. Пояснити, чому \"зникли\" деякі елементи."
      ],
      "metadata": {
        "id": "gHpT0Zw_1HEF"
      }
    },
    {
      "cell_type": "code",
      "source": [
        "my_list = [1, 1, 2, 67, 67, 8, 9]\n",
        "list_to_set = set(my_list)\n",
        "print(f'Created object: {list_to_set}, its type: {type(list_to_set)}')"
      ],
      "metadata": {
        "id": "qCN4uvJ_fxmu",
        "colab": {
          "base_uri": "https://localhost:8080/"
        },
        "outputId": "85b714fd-d9bd-4399-892c-d60b4a029f63"
      },
      "execution_count": 43,
      "outputs": [
        {
          "output_type": "stream",
          "name": "stdout",
          "text": [
            "Created object: {1, 2, 67, 8, 9}, its type: <class 'set'>\n"
          ]
        }
      ]
    },
    {
      "cell_type": "markdown",
      "source": [
        "### Відповідь:\n",
        "У початковому списку містилися повторювані елементи: 1 і 67. У свою чергу множина не допускає дублікати елементів, тому при створенні множини із існуючого списка видалятимуться елементи, що зустрічаються у початковому списку більше ніж 1 раз."
      ],
      "metadata": {
        "id": "tFNc1e20fyny"
      }
    },
    {
      "cell_type": "markdown",
      "source": [
        "19. Створіть дві множини. Продемонстуйте над ними операції: обʼєднання, різниці, пересічі та симетричної різниці. Використовуйте методи, що не змінюють множини, а створюють нові."
      ],
      "metadata": {
        "id": "SRMkGizS1UwY"
      }
    },
    {
      "cell_type": "code",
      "source": [
        "a_set = {1, 3, 5, 6, 7, 8, 9, 11}\n",
        "b_set = {0, 2, 4, 6, 8, 9, 10, 11}\n",
        "union_a_b = a_set.union(b_set)\n",
        "intersection_a_b = a_set.intersection(b_set)\n",
        "difference_a_b = a_set.difference(b_set)\n",
        "symmetric_diff_a_b  = a_set.symmetric_difference(b_set)\n",
        "print(f'Set a: {a_set}, set b: {b_set}\\n',\n",
        "      f'Union: {union_a_b}\\n',\n",
        "      f'Intersection: {intersection_a_b}\\n',\n",
        "      f'Difference: {difference_a_b}\\n',\n",
        "      f'Symmetric difference: {symmetric_diff_a_b}'\n",
        "      )"
      ],
      "metadata": {
        "id": "h0T-VuDnf3Ri",
        "colab": {
          "base_uri": "https://localhost:8080/"
        },
        "outputId": "210d8331-7f0d-4f40-f531-a7e1fc5d3a57"
      },
      "execution_count": 44,
      "outputs": [
        {
          "output_type": "stream",
          "name": "stdout",
          "text": [
            "Set a: {1, 3, 5, 6, 7, 8, 9, 11}, set b: {0, 2, 4, 6, 8, 9, 10, 11}\n",
            " Union: {0, 1, 2, 3, 4, 5, 6, 7, 8, 9, 10, 11}\n",
            " Intersection: {8, 9, 11, 6}\n",
            " Difference: {1, 3, 5, 7}\n",
            " Symmetric difference: {0, 1, 2, 3, 4, 5, 7, 10}\n"
          ]
        }
      ]
    },
    {
      "cell_type": "markdown",
      "source": [
        "# VII. Словники (Dictionary)."
      ],
      "metadata": {
        "id": "kWc8gkzTx7Ea"
      }
    },
    {
      "cell_type": "markdown",
      "source": [
        "20. Створіть пустий словник. До нього додайте чотири пари елементів такі, щоб їхні ключі були різних типів. Чи може список бути ключем? Чому?"
      ],
      "metadata": {
        "id": "i5FLwj-B2ybQ"
      }
    },
    {
      "cell_type": "code",
      "source": [
        "my_dict = dict()\n",
        "my_dict['a'] = 2\n",
        "my_dict['b'] = 3\n",
        "my_dict['c'] = 4\n",
        "my_dict"
      ],
      "metadata": {
        "id": "hxgv3BzrgLAV",
        "colab": {
          "base_uri": "https://localhost:8080/"
        },
        "outputId": "5b62af73-c297-40be-8a31-4eea39a980b3"
      },
      "execution_count": 49,
      "outputs": [
        {
          "output_type": "execute_result",
          "data": {
            "text/plain": [
              "{'a': 2, 'b': 3, 'c': 4}"
            ]
          },
          "metadata": {},
          "execution_count": 49
        }
      ]
    },
    {
      "cell_type": "markdown",
      "source": [
        "### Відповідь:\n",
        "Ні, список не може бути ключем, оскільки список можна змінювати після ініціалізації обʼєкта, відповідно тоді було б можна зробити 2 однакові ключі в словнику, що є неприпустимим для типу даних dictionary. Окрім того, список не є hashable типом даних, а ключі словника мають бути hashable."
      ],
      "metadata": {
        "id": "zwa7UVN-gR3m"
      }
    },
    {
      "cell_type": "markdown",
      "source": [
        "21. Створіть словник, де значенням в одній з пар теж буде словник, який теж має вкладений словник. Виведіть на екран значення, що міститься в словнику, що знаходиться на найнижчому рівні ієрархії вкладеності (найбільш внутрішній)."
      ],
      "metadata": {
        "id": "WM_pMlJsgoNf"
      }
    },
    {
      "cell_type": "code",
      "source": [
        "complex_dict = {'key1': {'sub_key1': {'inner_key1': {'super_inner_key': 'the_most_inner_value'}}}, 'key2': 'basic_value'}\n",
        "complex_dict['key1']['sub_key1']['inner_key1']['super_inner_key']"
      ],
      "metadata": {
        "id": "60dlP7IHhAy4",
        "colab": {
          "base_uri": "https://localhost:8080/",
          "height": 35
        },
        "outputId": "441d0d4f-fd33-43f9-f353-df47dbf6ac36"
      },
      "execution_count": 56,
      "outputs": [
        {
          "output_type": "execute_result",
          "data": {
            "text/plain": [
              "'the_most_inner_value'"
            ],
            "application/vnd.google.colaboratory.intrinsic+json": {
              "type": "string"
            }
          },
          "metadata": {},
          "execution_count": 56
        }
      ]
    },
    {
      "cell_type": "markdown",
      "source": [
        "# Вітаю! Ви велика(ий) молодець, що впоралась(вся). Похваліть себе та побалуйте чимось приємним. Я Вами пишаюся."
      ],
      "metadata": {
        "id": "xOZP0hkx6cCr"
      }
    }
  ]
}